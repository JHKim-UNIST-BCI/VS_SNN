{
 "cells": [
  {
   "cell_type": "code",
   "execution_count": 12,
   "metadata": {},
   "outputs": [
    {
     "name": "stdout",
     "output_type": "stream",
     "text": [
      "The autoreload extension is already loaded. To reload it, use:\n",
      "  %reload_ext autoreload\n"
     ]
    }
   ],
   "source": [
    "%load_ext autoreload\n",
    "%autoreload 2\n",
    "import numpy as np\n",
    "from SNN import SNN_class"
   ]
  },
  {
   "cell_type": "code",
   "execution_count": 13,
   "metadata": {},
   "outputs": [
    {
     "name": "stdout",
     "output_type": "stream",
     "text": [
      "(1, 1) [[10]]\n",
      "(2, 2) [[8 8]\n",
      " [8 8]]\n",
      "(3, 3) [[1 1 1]\n",
      " [1 1 1]\n",
      " [1 1 1]]\n"
     ]
    }
   ],
   "source": [
    "input_dim = 42\n",
    "object_class = [2, 3, 4]\n",
    "output_dim = len(object_class)\n",
    "\n",
    "time_length = 3620\n",
    "\n",
    "receptiveField = []\n",
    "receptiveField.append(np.array([[10]]))\n",
    "receptiveField.append(np.array([[2, 2], [2, 2]]) * 4)\n",
    "receptiveField.append(np.array([[1, 1, 1], [1, 1, 1], [1, 1, 1]]))\n",
    "\n",
    "for i in range(len(receptiveField)):\n",
    "    print(receptiveField[i].shape, receptiveField[i])\n",
    "    "
   ]
  },
  {
   "cell_type": "code",
   "execution_count": 14,
   "metadata": {},
   "outputs": [
    {
     "name": "stdout",
     "output_type": "stream",
     "text": [
      "Spiking Neural Network initialized!\n",
      "# of input neurons:  42\n",
      "# of output neurons:  3\n"
     ]
    }
   ],
   "source": [
    "s = SNN_class(NT = time_length, numIn = input_dim, numOut = output_dim)\n"
   ]
  }
 ],
 "metadata": {
  "kernelspec": {
   "display_name": "SNN",
   "language": "python",
   "name": "python3"
  },
  "language_info": {
   "codemirror_mode": {
    "name": "ipython",
    "version": 3
   },
   "file_extension": ".py",
   "mimetype": "text/x-python",
   "name": "python",
   "nbconvert_exporter": "python",
   "pygments_lexer": "ipython3",
   "version": "3.8.13 (default, Mar 28 2022, 06:59:08) [MSC v.1916 64 bit (AMD64)]"
  },
  "orig_nbformat": 4,
  "vscode": {
   "interpreter": {
    "hash": "6ca5cb6c125320e33d7de72e74d04ca0c02204060bf75ca5c33f337e4041bfe1"
   }
  }
 },
 "nbformat": 4,
 "nbformat_minor": 2
}
